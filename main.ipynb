{
 "cells": [
  {
   "cell_type": "markdown",
   "id": "dbfe6b19",
   "metadata": {},
   "source": [
    "**Phu Nguyen, Sean Nightingale**"
   ]
  },
  {
   "cell_type": "markdown",
   "id": "d7547beb",
   "metadata": {},
   "source": [
    "**Just some cells to help understand our data**"
   ]
  },
  {
   "cell_type": "code",
   "execution_count": null,
   "id": "79cbf13a",
   "metadata": {
    "vscode": {
     "languageId": "plaintext"
    }
   },
   "outputs": [],
   "source": []
  }
 ],
 "metadata": {
  "language_info": {
   "name": "python"
  }
 },
 "nbformat": 4,
 "nbformat_minor": 5
}
