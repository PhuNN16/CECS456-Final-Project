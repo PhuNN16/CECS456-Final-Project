{
 "cells": [
  {
   "cell_type": "markdown",
   "id": "dbfe6b19",
   "metadata": {},
   "source": [
    "**Phu Nguyen, Sean Nightingale**"
   ]
  },
  {
   "cell_type": "markdown",
   "id": "09aeb703",
   "metadata": {},
   "source": [
    "Imports"
   ]
  },
  {
   "cell_type": "code",
   "execution_count": 3,
   "id": "07d7060c",
   "metadata": {},
   "outputs": [],
   "source": [
    "import pandas as pd\n",
    "\n"
   ]
  },
  {
   "cell_type": "markdown",
   "id": "d7547beb",
   "metadata": {},
   "source": [
    "**Just some cells to help understand our data**"
   ]
  },
  {
   "cell_type": "code",
   "execution_count": 4,
   "id": "79cbf13a",
   "metadata": {},
   "outputs": [
    {
     "name": "stdout",
     "output_type": "stream",
     "text": [
      "   gender   age  hypertension  heart_disease smoking_history    bmi  \\\n",
      "0  Female  80.0             0              1           never  25.19   \n",
      "1  Female  54.0             0              0         No Info  27.32   \n",
      "2    Male  28.0             0              0           never  27.32   \n",
      "3  Female  36.0             0              0         current  23.45   \n",
      "4    Male  76.0             1              1         current  20.14   \n",
      "\n",
      "   HbA1c_level  blood_glucose_level  diabetes  \n",
      "0          6.6                  140         0  \n",
      "1          6.6                   80         0  \n",
      "2          5.7                  158         0  \n",
      "3          5.0                  155         0  \n",
      "4          4.8                  155         0  \n",
      "<class 'pandas.core.frame.DataFrame'>\n",
      "RangeIndex: 100000 entries, 0 to 99999\n",
      "Data columns (total 9 columns):\n",
      " #   Column               Non-Null Count   Dtype  \n",
      "---  ------               --------------   -----  \n",
      " 0   gender               100000 non-null  object \n",
      " 1   age                  100000 non-null  float64\n",
      " 2   hypertension         100000 non-null  int64  \n",
      " 3   heart_disease        100000 non-null  int64  \n",
      " 4   smoking_history      100000 non-null  object \n",
      " 5   bmi                  100000 non-null  float64\n",
      " 6   HbA1c_level          100000 non-null  float64\n",
      " 7   blood_glucose_level  100000 non-null  int64  \n",
      " 8   diabetes             100000 non-null  int64  \n",
      "dtypes: float64(3), int64(4), object(2)\n",
      "memory usage: 6.9+ MB\n",
      "None\n",
      "                 age  hypertension  heart_disease            bmi  \\\n",
      "count  100000.000000  100000.00000  100000.000000  100000.000000   \n",
      "mean       41.885856       0.07485       0.039420      27.320767   \n",
      "std        22.516840       0.26315       0.194593       6.636783   \n",
      "min         0.080000       0.00000       0.000000      10.010000   \n",
      "25%        24.000000       0.00000       0.000000      23.630000   \n",
      "50%        43.000000       0.00000       0.000000      27.320000   \n",
      "75%        60.000000       0.00000       0.000000      29.580000   \n",
      "max        80.000000       1.00000       1.000000      95.690000   \n",
      "\n",
      "         HbA1c_level  blood_glucose_level       diabetes  \n",
      "count  100000.000000        100000.000000  100000.000000  \n",
      "mean        5.527507           138.058060       0.085000  \n",
      "std         1.070672            40.708136       0.278883  \n",
      "min         3.500000            80.000000       0.000000  \n",
      "25%         4.800000           100.000000       0.000000  \n",
      "50%         5.800000           140.000000       0.000000  \n",
      "75%         6.200000           159.000000       0.000000  \n",
      "max         9.000000           300.000000       1.000000  \n"
     ]
    }
   ],
   "source": [
    "df = pd.read_csv(\"Dataset/diabetes_prediction_dataset.csv\")\n",
    "print(df.head())\n",
    "print(df.info())\n",
    "print(df.describe())\n"
   ]
  },
  {
   "cell_type": "code",
   "execution_count": null,
   "id": "cd9607a1",
   "metadata": {},
   "outputs": [
    {
     "name": "stdout",
     "output_type": "stream",
     "text": [
      "       gender   age  hypertension  heart_disease smoking_history    bmi  \\\n",
      "21       Male  5.00             0              0           never  18.80   \n",
      "24     Female  4.00             0              0           never  13.99   \n",
      "35       Male  5.00             0              0           never  15.10   \n",
      "41       Male  5.00             0              0           never  27.32   \n",
      "49     Female  3.00             0              0           never  19.27   \n",
      "...       ...   ...           ...            ...             ...    ...   \n",
      "99911  Female  0.32             0              0           never  18.37   \n",
      "99916  Female  1.48             0              0           never  27.32   \n",
      "99933  Female  5.00             0              0           never  13.34   \n",
      "99940    Male  2.00             0              0           never  16.86   \n",
      "99996  Female  2.00             0              0           never  17.37   \n",
      "\n",
      "       HbA1c_level  blood_glucose_level  diabetes  \n",
      "21             6.2                   85         0  \n",
      "24             4.0                  140         0  \n",
      "35             5.8                   85         0  \n",
      "41             6.6                  130         0  \n",
      "49             6.5                  100         0  \n",
      "...            ...                  ...       ...  \n",
      "99911          3.5                   80         0  \n",
      "99916          4.5                  140         0  \n",
      "99933          6.5                  155         0  \n",
      "99940          6.1                  145         0  \n",
      "99996          6.5                  100         0  \n",
      "\n",
      "[6271 rows x 9 columns]\n"
     ]
    }
   ],
   "source": [
    "# Replace 'No Info' with 'never' for age ≤ 5\n",
    "df.loc[(df['age'] <= 5) & (df['smoking_history'] == 'No Info'), 'smoking_history'] = 'never'\n",
    "\n",
    "# Display for confirmation\n",
    "print(df[df['age'] <= 5])  # to check the changes"
   ]
  },
  {
   "cell_type": "markdown",
   "id": "5a76b40b",
   "metadata": {},
   "source": [
    "**Preprocess Stuff**"
   ]
  },
  {
   "cell_type": "code",
   "execution_count": 7,
   "id": "e16b33f7",
   "metadata": {},
   "outputs": [
    {
     "data": {
      "text/plain": [
       "gender                 0\n",
       "age                    0\n",
       "hypertension           0\n",
       "heart_disease          0\n",
       "smoking_history        0\n",
       "bmi                    0\n",
       "HbA1c_level            0\n",
       "blood_glucose_level    0\n",
       "diabetes               0\n",
       "dtype: int64"
      ]
     },
     "execution_count": 7,
     "metadata": {},
     "output_type": "execute_result"
    }
   ],
   "source": [
    "df.isnull().sum()"
   ]
  },
  {
   "cell_type": "code",
   "execution_count": null,
   "id": "ba9b941a",
   "metadata": {},
   "outputs": [],
   "source": []
  }
 ],
 "metadata": {
  "kernelspec": {
   "display_name": "Python 3",
   "language": "python",
   "name": "python3"
  },
  "language_info": {
   "codemirror_mode": {
    "name": "ipython",
    "version": 3
   },
   "file_extension": ".py",
   "mimetype": "text/x-python",
   "name": "python",
   "nbconvert_exporter": "python",
   "pygments_lexer": "ipython3",
   "version": "3.13.2"
  }
 },
 "nbformat": 4,
 "nbformat_minor": 5
}
